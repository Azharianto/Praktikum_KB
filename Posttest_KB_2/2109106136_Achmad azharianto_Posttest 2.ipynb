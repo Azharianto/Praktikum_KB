{
 "cells": [
  {
   "cell_type": "markdown",
   "metadata": {},
   "source": [
    "Soal No 1 "
   ]
  },
  {
   "cell_type": "code",
   "execution_count": 3,
   "metadata": {},
   "outputs": [
    {
     "name": "stdout",
     "output_type": "stream",
     "text": [
      "Mean: 22733.408867452\n",
      "Standard Deviation: 11415.528189035635\n",
      "Minimum Value: 1200\n",
      "Maximum Value: 123456\n",
      "Q1 (25th Percentile): 14950.0\n",
      "Q2 (Median - 50th Percentile): 20462.0\n",
      "Q3 (75th Percentile): 27940.0\n"
     ]
    }
   ],
   "source": [
    "import pandas as pd\n",
    "\n",
    "# Import dataset dari file csv #\n",
    "data = pd.read_csv('bmw.csv')\n",
    "\n",
    "# Menentukan kolom numerik yang ingin dihitung statistiknya #\n",
    "numeric_column = 'price'\n",
    "\n",
    "# Menghitung Statistika #\n",
    "mean = data[numeric_column].mean()\n",
    "std_dev = data[numeric_column].std()\n",
    "min_value = data[numeric_column].min()\n",
    "max_value = data[numeric_column].max()\n",
    "q1 = data[numeric_column].quantile(0.25)\n",
    "q2 = data[numeric_column].quantile(0.5)  \n",
    "q3 = data[numeric_column].quantile(0.75)\n",
    "\n",
    "# Cetak hasil #\n",
    "print(\"Mean:\", mean)\n",
    "print(\"Standard Deviation:\", std_dev)\n",
    "print(\"Minimum Value:\", min_value)\n",
    "print(\"Maximum Value:\", max_value)\n",
    "print(\"Q1 (25th Percentile):\", q1)\n",
    "print(\"Q2 (Median - 50th Percentile):\", q2)\n",
    "print(\"Q3 (75th Percentile):\", q3)\n"
   ]
  },
  {
   "cell_type": "markdown",
   "metadata": {},
   "source": [
    "Soal No 2"
   ]
  },
  {
   "cell_type": "code",
   "execution_count": 4,
   "metadata": {},
   "outputs": [
    {
     "name": "stdout",
     "output_type": "stream",
     "text": [
      "0    11200\n",
      "1    27000\n",
      "2    16000\n",
      "3    12750\n",
      "4    14500\n",
      "5    14900\n",
      "6    16000\n",
      "7    16250\n",
      "8    14250\n",
      "9    14250\n",
      "Name: price, dtype: int64\n"
     ]
    }
   ],
   "source": [
    "# masukan'numeric_column' dengan nama kolom numerik dalam dataset Anda\n",
    "numeric_column = 'price'\n",
    "\n",
    "# Menampilkan 10 baris pertama dari kolom numerik\n",
    "first_10_records = data[numeric_column].head(10)\n",
    "print(first_10_records)"
   ]
  },
  {
   "cell_type": "markdown",
   "metadata": {},
   "source": [
    "Soal No 3"
   ]
  },
  {
   "cell_type": "code",
   "execution_count": 6,
   "metadata": {},
   "outputs": [
    {
     "name": "stdout",
     "output_type": "stream",
     "text": [
      "Jumlah Record: 10781\n",
      "Jumlah Attribute: 9\n",
      "Nama Attribute: ['model', 'year', 'price', 'transmission', 'mileage', 'fuelType', 'tax', 'mpg', 'engineSize']\n",
      "Jumlah Attribute dengan Tipe Angka: 6\n"
     ]
    }
   ],
   "source": [
    "import pandas as pd\n",
    "\n",
    "# Mengimpor dataset dari file CSV\n",
    "data = pd.read_csv('bmw.csv')\n",
    "\n",
    "# Mengumpulkan informasi yang diminta\n",
    "info_dict = {\n",
    "    \"Jumlah Record\": len(data),\n",
    "    \"Jumlah Attribute\": len(data.columns),\n",
    "    \"Nama Attribute\": list(data.columns),\n",
    "    \"Jumlah Attribute dengan Tipe Angka\": len(data.select_dtypes(include=['number']).columns)\n",
    "}\n",
    "\n",
    "# Menampilkan isi dictionary\n",
    "for key, value in info_dict.items():\n",
    "    print(f\"{key}: {value}\")"
   ]
  },
  {
   "cell_type": "markdown",
   "metadata": {},
   "source": [
    "Soal No 4"
   ]
  },
  {
   "cell_type": "code",
   "execution_count": 8,
   "metadata": {},
   "outputs": [
    {
     "name": "stdout",
     "output_type": "stream",
     "text": [
      "      transmission  mileage fuelType  tax    mpg  engineSize\n",
      "136         Manual    44008   Diesel    0   83.1         1.5\n",
      "137         Manual    59509   Diesel   20   68.9         2.0\n",
      "138      Automatic    43703    Other  140  134.5         2.0\n",
      "139      Automatic    36858   Diesel  125   60.1         2.0\n",
      "140      Automatic    25786   Diesel    0   74.3         2.0\n",
      "...            ...      ...      ...  ...    ...         ...\n",
      "10776    Automatic    40818   Diesel  150   54.3         2.0\n",
      "10777    Automatic    42947   Diesel  125   60.1         2.0\n",
      "10778       Manual    25468   Petrol  200   42.8         2.0\n",
      "10779    Automatic    45000   Diesel   30   64.2         2.0\n",
      "10780    Automatic    59432   Diesel  125   57.6         2.0\n",
      "\n",
      "[10645 rows x 6 columns]\n"
     ]
    }
   ],
   "source": [
    "import pandas as pd\n",
    "\n",
    "# Mengimpor dataset dari file CSV\n",
    "data = pd.read_csv('bmw.csv')\n",
    "\n",
    "# Menggunakan metode slice dengan iloc\n",
    "sliced_data = data.iloc[136:, 3:]\n",
    "print(sliced_data)"
   ]
  },
  {
   "cell_type": "markdown",
   "metadata": {},
   "source": [
    "Soal No 5"
   ]
  },
  {
   "cell_type": "code",
   "execution_count": 9,
   "metadata": {},
   "outputs": [
    {
     "name": "stdout",
     "output_type": "stream",
     "text": [
      "model           24\n",
      "transmission     3\n",
      "fuelType         5\n",
      "dtype: int64\n"
     ]
    }
   ],
   "source": [
    "import pandas as pd\n",
    "\n",
    "# Mengimpor dataset dari file CSV\n",
    "data = pd.read_csv('bmw.csv')\n",
    "\n",
    "# Memilih kolom dengan tipe data objek\n",
    "object_columns = data.select_dtypes(include=['object'])\n",
    "\n",
    "# Menghitung jumlah label unik untuk setiap kolom\n",
    "label_counts = object_columns.apply(lambda col: col.nunique())\n",
    "\n",
    "# Menampilkan jumlah label untuk semua attribute yang bernilai objek\n",
    "print(label_counts)"
   ]
  }
 ],
 "metadata": {
  "kernelspec": {
   "display_name": "Python 3",
   "language": "python",
   "name": "python3"
  },
  "language_info": {
   "codemirror_mode": {
    "name": "ipython",
    "version": 3
   },
   "file_extension": ".py",
   "mimetype": "text/x-python",
   "name": "python",
   "nbconvert_exporter": "python",
   "pygments_lexer": "ipython3",
   "version": "3.10.7"
  },
  "orig_nbformat": 4
 },
 "nbformat": 4,
 "nbformat_minor": 2
}
